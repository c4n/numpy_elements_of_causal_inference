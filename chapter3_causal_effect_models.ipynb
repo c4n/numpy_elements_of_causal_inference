{
 "metadata": {
  "language_info": {
   "codemirror_mode": {
    "name": "ipython",
    "version": 3
   },
   "file_extension": ".py",
   "mimetype": "text/x-python",
   "name": "python",
   "nbconvert_exporter": "python",
   "pygments_lexer": "ipython3",
   "version": "3.9.4"
  },
  "orig_nbformat": 2,
  "kernelspec": {
   "name": "python394jvsc74a57bd0f3e55b60f729e374715aaf48bfa8769d981eba09692b9c85fb028478458eb600",
   "display_name": "Python 3.9.4 64-bit ('test-env': conda)"
  }
 },
 "nbformat": 4,
 "nbformat_minor": 2,
 "cells": [
  {
   "source": [
    "Useful properties of Gaussian RVs\n",
    "\n",
    "1. If $X \\sim \\mathcal{N}\\left(\\mu, \\sigma^{2}\\right)$, then for any real numbers $a$ and $b$.\n",
    "$$\n",
    "Y=a X+b \\sim \\mathcal{N}\\left(a \\mu+b, a^{2} \\sigma^{2}\\right)\n",
    "$$\n",
    "2. If $X \\sim \\mathcal{N}\\left(\\mu_{X}, \\sigma_{X}^{2}\\right)$ and $Y \\sim \\mathcal{N}\\left(\\mu_{Y}, \\sigma_{Y}^{2}\\right)$, and $X$ and $Y$ are independent.\n",
    "$$\n",
    "Z=X+Y \\sim \\mathcal{N}\\left(\\mu_{X}+\\mu_{Y}, \\sigma_{X}^{2}+\\sigma_{Y}^{2}\\right)\n",
    "$$\n",
    "3. if $X_{1}, \\ldots, X_{K}$ are independent Gaussian RVs, where $X_{k} \\sim \\mathcal{N}\\left(\\mu_{k}, \\sigma_{k}^{2}\\right)$, then\n",
    "$$\n",
    "Z=X_{1}+\\ldots+X_{K} \\sim \\mathcal{N}\\left(\\mu_{1}+\\ldots+\\mu_{K}, \\sigma_{1}^{2}+\\ldots+\\sigma_{K}^{2}\\right)\n",
    "$$"
   ],
   "cell_type": "markdown",
   "metadata": {}
  },
  {
   "source": [
    "## 3.1 Structural Causal Model\n",
    "An SCM $\\mathfrak{C}$ with gprah C-->E consists of two assignments (C = cause, E = effect)\n",
    "\n",
    "$C:=N_{C}$  \n",
    "$E:=f_{E}\\left(C, N_{E}\\right)$\n",
    "\n",
    "where $N_{E} \\perp N_{C}$, that is $N_{E}$ is independent of $N_{C}$\n",
    "\n",
    "function $f_{E}$ with noise distributions $P_{N_{C}}$ and $P_{N_{E}}$"
   ],
   "cell_type": "markdown",
   "metadata": {}
  },
  {
   "source": [
    "## 3.2 cause-effect interventions\n",
    "\n",
    "suppose that the distribution $P_{C,E}$ is entailed by an SCM  $\\mathfrak{C}$:\n",
    "\n",
    "$C:=N_{C}$  \n",
    "$E:=4 \\cdot C+N_{E}$\n",
    "\n",
    "with $N_{C}, N_{E} \\stackrel{\\mathrm{iid}}{\\sim} \\mathcal{N}(0,1)$ and graph C-->E then,\n",
    "\n",
    "\n",
    "\n",
    "$P_{E}^{\\mathfrak{C}}=\\mathcal{N}(0,17)  \\neq \\mathcal{N}(8,1)=P_{E}^{\\mathfrak{C} ; d o(C:=2)}=P_{E \\mid C=2}^{\\mathfrak{C}}$\n",
    "\n",
    "$P_{E}^{\\mathfrak{C}}=\\mathcal{N}(0,17) \\neq \\mathcal{N}(12,1)=P_{E}^{\\mathfrak{C} ; d o(C:=3)}=P_{E \\mid C=3}^{\\mathfrak{C}}$\n",
    "\n",
    "Intervening on C changes the distribution of E\n",
    "\n",
    "Note that:\n",
    "\n",
    "$4 \\cdot C \\sim \\left(4\\mu, 4^{2}\\sigma^{2}\\right)$\n",
    "\n",
    "$4 \\cdot C \\sim \\left(4 \\cdot 1, 4^{2} \\cdot 1^{2}\\right)$\n",
    "\n",
    "$4 \\cdot C + N_{E} \\sim \\left(4+0, 16+1\\right)$"
   ],
   "cell_type": "markdown",
   "metadata": {}
  },
  {
   "cell_type": "code",
   "execution_count": 53,
   "metadata": {},
   "outputs": [
    {
     "output_type": "stream",
     "name": "stdout",
     "text": [
      "0.024696445706920613 16.89640347991061\n(0.9701397185010739, 0.0)\n"
     ]
    }
   ],
   "source": [
    "import numpy as np\n",
    "from scipy.stats import pearsonr\n",
    "np.random.seed(1)\n",
    "# generate a sample from the distribution entailed by the SCM\n",
    "n = 100000 # number of samples\n",
    "C = np.random.normal(0,1,n)\n",
    "E = 4*C + np.random.normal(0,1,n)\n",
    "print(np.mean(E),np.var(E))\n",
    "print(pearsonr(C,E))"
   ]
  },
  {
   "cell_type": "code",
   "execution_count": 51,
   "metadata": {},
   "outputs": [
    {
     "output_type": "stream",
     "name": "stdout",
     "text": [
      "do(C:=2)\n7.99656051867582 1.0017879310041795\ndo(C:=3)\n11.996623535995091 1.009267414557872\n"
     ]
    }
   ],
   "source": [
    "# generate a sample from the intervention distributiob do(C:=2)\n",
    "# this changes the distribution of E\n",
    "\n",
    "C = np.empty(n); C.fill(2)\n",
    "E = 4*C + np.random.normal(0,1,n)\n",
    "print(\"do(C:=2)\")\n",
    "print(np.mean(E),np.var(E))\n",
    "\n",
    "C = np.empty(n); C.fill(3)\n",
    "E = 4*C + np.random.normal(0,1,n)\n",
    "print(\"do(C:=3)\")\n",
    "print(np.mean(E),np.var(E))"
   ]
  },
  {
   "source": [
    "But on the other hand, no matter how strongly we intervene on E, the distribution of C remains what it was before:\n",
    "\n",
    "$P_{C}^{\\mathfrak{C} ; d o(E:=2)}=\\mathcal{N}(0,1)=P_{C}^{\\mathfrak{C}}=P_{C}^{\\mathfrak{C} ; d o(E:=314159265)}\\left(\\neq P_{C \\mid E=2}^{\\mathfrak{C}}\\right)$\n"
   ],
   "cell_type": "markdown",
   "metadata": {}
  },
  {
   "cell_type": "code",
   "execution_count": 56,
   "metadata": {},
   "outputs": [
    {
     "output_type": "stream",
     "name": "stdout",
     "text": [
      "-0.00040421657884786227 0.9973625074311082\n-0.00040421657884786227 0.9973625074311082\n"
     ]
    }
   ],
   "source": [
    "C = np.random.normal(0,1,n)\n",
    "print(np.mean(C),np.var(C))\n",
    "E = np.empty(n); E.fill(314159265.0)\n",
    "print(np.mean(C),np.var(C))"
   ]
  },
  {
   "source": [
    "The asymmetry between cause and effect can also be formulated as an independence statement. When we replace the assignment (3.3) with $E:=\\tilde{N}_{E}$ (think about randomizing $E$ ), we break the dependence between $C$ and $E$. In\n",
    "$$\n",
    "P_{C, E}^{\\mathfrak{C} ; d o\\left(E:=\\tilde{N}_{E}\\right)}\n",
    "$$\n",
    "we find $C \\perp E$. This independence does not hold when randomizing $C$. As long as $\\operatorname{var}\\left[\\tilde{N}_{C}\\right] \\neq 0$, we find $C \\not \\perp E$ in\n",
    "$$\n",
    "P_{C, E}^{\\mathfrak{C} ; d o\\left(C:=\\tilde{N}_{C}\\right)}\n",
    "$$\n",
    "\n",
    "the correlation between $C$ and $E$ remains non-zero."
   ],
   "cell_type": "markdown",
   "metadata": {}
  },
  {
   "cell_type": "code",
   "execution_count": 58,
   "metadata": {},
   "outputs": [
    {
     "output_type": "stream",
     "name": "stdout",
     "text": [
      "(-0.0004111696782525603, 0.8965492984934142)\n"
     ]
    }
   ],
   "source": [
    "# generates a sample from the intervention distribution do(E:N~)\n",
    "# this breaks the dependence between C and E\n",
    "C = np.random.normal(0,1,n)\n",
    "E = np.random.normal(0,1,n)\n",
    "print(pearsonr(C,E))\n"
   ]
  },
  {
   "cell_type": "code",
   "execution_count": 104,
   "metadata": {},
   "outputs": [
    {
     "output_type": "execute_result",
     "data": {
      "text/plain": [
       "(200,)"
      ]
     },
     "metadata": {},
     "execution_count": 104
    }
   ],
   "source": [
    "C.shape"
   ]
  },
  {
   "cell_type": "code",
   "execution_count": 111,
   "metadata": {},
   "outputs": [],
   "source": [
    "cov = np.cov(C,E)\n",
    "inv_cov = np.linalg.inv(cov)"
   ]
  },
  {
   "cell_type": "code",
   "execution_count": 119,
   "metadata": {},
   "outputs": [
    {
     "output_type": "execute_result",
     "data": {
      "text/plain": [
       "1.0867164898194663"
      ]
     },
     "metadata": {},
     "execution_count": 119
    }
   ],
   "source": [
    "inv_cov[0][0]**-1"
   ]
  },
  {
   "cell_type": "code",
   "execution_count": 121,
   "metadata": {},
   "outputs": [],
   "source": [
    "cov_C_given_E = inv_cov[0][0]**-1"
   ]
  },
  {
   "cell_type": "code",
   "execution_count": 122,
   "metadata": {},
   "outputs": [
    {
     "output_type": "execute_result",
     "data": {
      "text/plain": [
       "1.0867164898194663"
      ]
     },
     "metadata": {},
     "execution_count": 122
    }
   ],
   "source": [
    "cov_C_given_E"
   ]
  },
  {
   "source": [
    "# 3.3 Counterfactuals\n",
    "$\\mathfrak{E}: $\n",
    "\n",
    "$$\n",
    "T :=N_{T} \\\\\n",
    "B :=T \\cdot N_{B}+(1-T) \\cdot\\left(1-N_{B}\\right)\n",
    "$$\n",
    "\n",
    "with Bernoulli distributed $N_{B} \\sim \\operatorname{Ber}(0.01)$; note that the corresponding causal graph is $T \\rightarrow B$."
   ],
   "cell_type": "markdown",
   "metadata": {}
  },
  {
   "cell_type": "code",
   "execution_count": 84,
   "metadata": {},
   "outputs": [
    {
     "output_type": "stream",
     "name": "stdout",
     "text": [
      "0 0\n1 1\n0 0\n0 0\n1 1\n0 0\n1 1\n1 1\n"
     ]
    }
   ],
   "source": [
    "count = 0\n",
    "for i in range(1000):\n",
    "    N_T = np.random.binomial(1,0.5) # I just out 0.5 here randomly just to test things out\n",
    "    N_B = np.random.binomial(1,0.01)\n",
    "\n",
    "    T = N_T\n",
    "    B = T * N_B + (1-T)*(1-N_B)\n",
    "    if T == B:\n",
    "        print(T,B)"
   ]
  },
  {
   "cell_type": "code",
   "execution_count": 79,
   "metadata": {},
   "outputs": [
    {
     "output_type": "stream",
     "name": "stdout",
     "text": [
      "1 1\n"
     ]
    }
   ],
   "source": [
    "# SCM|B=1,T=1 (3.6) \n",
    "T = 1\n",
    "N_B = 1\n",
    "B = T * N_B + (1-T)*(1-N_B)\n",
    "print(T,B)"
   ]
  },
  {
   "source": [
    "# 3.5 Problems"
   ],
   "cell_type": "markdown",
   "metadata": {}
  },
  {
   "source": [
    "#### Problem 3.5 (Sampling from an SCM) Consider the SCM\n",
    "$$\n",
    "\\begin{array}{l}\n",
    "X:=Y^{2}+N_{X} \\\\\n",
    "Y:=N_{Y}\n",
    "\\end{array}\n",
    "$$\n",
    "with $N_{X}, N_{Y} \\stackrel{\\text { id }}{\\sim} \\mathcal{N}(0,1) .$ Generate an i.i.d. sample of size 200 from the joint distribution $(X, Y) .$"
   ],
   "cell_type": "markdown",
   "metadata": {}
  },
  {
   "cell_type": "code",
   "execution_count": 88,
   "metadata": {},
   "outputs": [],
   "source": [
    "n = 200\n",
    "N_X = np.random.normal(0,1,n)\n",
    "N_Y = np.random.normal(0,1,n)\n",
    "\n",
    "Y = N_Y\n",
    "X = Y**2 + N_X\n",
    "results = (X,Y)"
   ]
  },
  {
   "source": [
    "#### Problem 3.6 (Conditional distributions) \n",
    "Show that $P_{C \\mid E=2}^{\\mathfrak{C} }$ in Equation (3.4) is a Gaussian distribution:\n",
    "$$\n",
    "C \\mid E=2 \\sim \\mathcal{N}\\left(\\frac{8}{17}, \\sigma^{2}=\\frac{1}{17}\\right) .\n",
    "$$"
   ],
   "cell_type": "markdown",
   "metadata": {}
  },
  {
   "source": [
    "Note: (https://en.wikipedia.org/wiki/Multivariate_normal_distribution#Conditional_distributions)\n",
    "\n",
    "\n",
    "Bivariate case\n",
    "In the bivariate case where $\\mathbf{x}$ is partitioned into $X_{1}$ and $X_{2}$, the conditional distribution of $X_{1}$ given $X_{2}$ is:\n",
    "$$\n",
    "X_{1} \\mid X_{2}=a \\sim \\mathcal{N}\\left(\\mu_{1}+\\frac{\\sigma_{1}}{\\sigma_{2}} \\rho\\left(a-\\mu_{2}\\right),\\left(1-\\rho^{2}\\right) \\sigma_{1}^{2}\\right)\n",
    "$$\n",
    "where $\\rho$ is the correlation coefficient between $X_{1}$ and $X_{2}$.\n",
    "\n",
    "Bivariate conditional expectation\n",
    "\n",
    "In the general case:\n",
    "$$\n",
    "\\left(\\begin{array}{l}\n",
    "X_{1} \\\\\n",
    "X_{2}\n",
    "\\end{array}\\right) \\sim \\mathcal{N}\\left(\\left(\\begin{array}{l}\n",
    "\\mu_{1} \\\\\n",
    "\\mu_{2}\n",
    "\\end{array}\\right),\\left(\\begin{array}{cc}\n",
    "\\sigma_{1}^{2} & \\rho \\sigma_{1} \\sigma_{2} \\\\\n",
    "\\rho \\sigma_{1} \\sigma_{2} & \\sigma_{2}^{2}\n",
    "\\end{array}\\right)\\right)\n",
    "$$\n",
    "The conditional expectation of $X_{1}$ given $X_{2}$ is:\n",
    "$$\n",
    "\\mathrm{E}\\left(X_{1} \\mid X_{2}=x_{2}\\right)=\\mu_{1}+\\rho \\frac{\\sigma_{1}}{\\sigma_{2}}\\left(x_{2}-\\mu_{2}\\right)\n",
    "$$"
   ],
   "cell_type": "markdown",
   "metadata": {}
  },
  {
   "cell_type": "code",
   "execution_count": 151,
   "metadata": {},
   "outputs": [
    {
     "output_type": "stream",
     "name": "stdout",
     "text": [
      "0.024696445706920613 16.89640347991061\n(0.9701397185010739, 0.0)\n"
     ]
    }
   ],
   "source": [
    "import numpy as np\n",
    "from scipy.stats import pearsonr\n",
    "np.random.seed(1)\n",
    "# generate a sample from the distribution entailed by the SCM\n",
    "n = 100000 # number of samples\n",
    "C = np.random.normal(0,1,n)\n",
    "E = 4*C + np.random.normal(0,1,n)\n",
    "print(np.mean(E),np.var(E))\n",
    "print(pearsonr(C,E))"
   ]
  },
  {
   "cell_type": "code",
   "execution_count": 152,
   "metadata": {},
   "outputs": [],
   "source": [
    "X = np.hstack([C.reshape(-1, 1), E.reshape(-1, 1)])\n",
    "MU =  np.mean(X, axis=0)\n",
    "COV = np.cov(X.T) \n"
   ]
  },
  {
   "source": [
    "$ \\mu_{1}+\\frac{\\sigma_{1}}{\\sigma_{2}} \\rho\\left(a-\\mu_{2}\\right)$\n",
    "\n",
    "\n",
    "Note that:\n",
    "\n",
    " $\\frac{\\sigma_{1}}{\\sigma_{2}} \\rho = \\frac{\\rho \\sigma_{1} \\sigma_{2}}{\\sigma_{2}^{2}} $\n"
   ],
   "cell_type": "markdown",
   "metadata": {}
  },
  {
   "cell_type": "code",
   "execution_count": 153,
   "metadata": {},
   "outputs": [
    {
     "output_type": "execute_result",
     "data": {
      "text/plain": [
       "0.4706727699980849"
      ]
     },
     "metadata": {},
     "execution_count": 153
    }
   ],
   "source": [
    "MU[0]+(COV[0,1]/COV[1,1])*(2.0-MU[1]) #C|E = 2"
   ]
  },
  {
   "source": [
    "$\\left(1-\\rho^{2}\\right) \\sigma_{1}^{2}$\n",
    "\n",
    "\n",
    "Note that:\n",
    "$\\left(1-\\rho^{2}\\right) \\sigma_{1}^{2} =  \\sigma_{1}^{2} - \\left(\\frac {\\rho \\sigma_{1} \\sigma_{2}}{\\sigma_{2}} \\right) \\rho \\sigma_{1} \\sigma_{2}$"
   ],
   "cell_type": "markdown",
   "metadata": {}
  },
  {
   "cell_type": "code",
   "execution_count": 158,
   "metadata": {},
   "outputs": [
    {
     "output_type": "execute_result",
     "data": {
      "text/plain": [
       "0.05863310304013347"
      ]
     },
     "metadata": {},
     "execution_count": 158
    }
   ],
   "source": [
    "COV[0,0] - COV[0,1] / COV[1,1] * COV[1,0]"
   ]
  },
  {
   "cell_type": "code",
   "execution_count": 160,
   "metadata": {},
   "outputs": [
    {
     "output_type": "stream",
     "name": "stdout",
     "text": [
      "0.47058823529411764 0.058823529411764705\n"
     ]
    }
   ],
   "source": [
    "print(8/17,1/17)"
   ]
  }
 ]
}