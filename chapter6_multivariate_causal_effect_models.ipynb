{
 "cells": [
  {
   "cell_type": "markdown",
   "id": "expressed-durham",
   "metadata": {},
   "source": [
    "# 6.2 Structural Causal Model\n",
    "### Code Snippet 6.4 \n",
    "$$\n",
    "\\begin{aligned}\n",
    "X_{1} &:=f_{1}\\left(X_{3}, N_{1}\\right) \\\\\n",
    "X_{2} &:=f_{2}\\left(X_{1}, N_{2}\\right) \\\\\n",
    "X_{3} &:=f_{3}\\left(N_{3}\\right) \\\\\n",
    "X_{4} &:=f_{4}\\left(X_{2}, X_{3}, N_{4}\\right)\n",
    "\\end{aligned}\n",
    "$$\n",
    "$N_{1}, \\ldots, N_{4}$ jointly independent \n",
    "\n",
    "$\\mathcal{G}$ is acyclic"
   ]
  },
  {
   "cell_type": "code",
   "execution_count": 5,
   "id": "sophisticated-calibration",
   "metadata": {},
   "outputs": [],
   "source": [
    "import numpy as np\n",
    "np.random.seed(1)\n",
    "n_samples = 100\n",
    "X3 = np.random.uniform(0,1,n_samples)-0.5\n",
    "X1 = 2*X3+np.random.normal(0,1,n_samples)\n",
    "X2 = (0.5*X1)**2 + np.random.normal(0,1,n_samples)**2\n",
    "X4 = X2 + 2 * np.sin(X3 + np.random.normal(0,1,n_samples))"
   ]
  },
  {
   "cell_type": "code",
   "execution_count": 6,
   "id": "demonstrated-manner",
   "metadata": {},
   "outputs": [
    {
     "data": {
      "text/plain": [
       "array([-1.63117283, -0.52978416,  0.33449112,  1.84864159, -0.62227558,\n",
       "        1.77742664,  0.02149615, -0.95271316,  0.23767928,  3.37058149,\n",
       "       -0.02757283,  1.21312284,  0.16388051,  1.43373445, -1.75139439,\n",
       "        1.04338837,  1.08136666,  0.16313758,  4.19188176, -0.04344414,\n",
       "        1.1261051 ,  3.24567322,  0.94868172,  1.88023445, -0.43238477,\n",
       "        3.30540457,  2.56200963, -1.16899248, -1.50119878,  3.31395895,\n",
       "        1.41614987,  5.09933751,  4.31872942, -0.23870134,  2.70951302,\n",
       "        2.44188426,  2.28898473,  3.23926317,  2.82068835, -0.42314764,\n",
       "        1.23252219,  2.69057361,  1.28852001,  0.92983597,  0.20578156,\n",
       "       -1.55117611,  3.3100771 , -1.08133622,  2.75099071, -1.47276613,\n",
       "        3.75479286,  8.4475166 , -1.10268889,  1.68017332,  0.37252807,\n",
       "        1.34321268,  1.03949409,  1.86097978, -0.86286458,  3.62314285,\n",
       "        1.75309287,  0.38424489, -0.32185084, -0.91803698,  2.4372436 ,\n",
       "       -1.06377596, -0.23744144,  2.02155935,  0.77744204,  2.96114149,\n",
       "        1.76670684, -0.15178026, -0.52305241,  0.84220865,  3.98060902,\n",
       "       -0.29141417,  2.17553973,  3.31832137,  8.50602121,  7.21109495,\n",
       "       -0.12640672,  0.29285647,  5.03279032, -0.28210308, -1.02223852,\n",
       "       -0.15038677, -1.05684092,  4.30108067, -1.24152327,  1.05414903,\n",
       "       -1.12790517,  3.42323   ,  1.17422126, -0.74408583,  2.02959727,\n",
       "        2.12710568,  1.53037442,  1.88737085,  1.86146569,  0.1999432 ])"
      ]
     },
     "execution_count": 6,
     "metadata": {},
     "output_type": "execute_result"
    }
   ],
   "source": [
    "X4"
   ]
  },
  {
   "cell_type": "markdown",
   "id": "backed-record",
   "metadata": {},
   "source": [
    "# 6.3 Interventions\n",
    "\n",
    "$P_{\\mathbf{X}}^{\\tilde{\\mathfrak{C}}}=: P_{\\mathbf{X}}^{\\mathfrak{C} ; d o\\left(X_{k}:=\\tilde{f}\\left(\\widetilde{\\mathbf{P A}}_{k}, \\tilde{N}_{k}\\right)\\right)}$\n",
    "### Code Snippet 6.9\n"
   ]
  },
  {
   "cell_type": "code",
   "execution_count": 7,
   "id": "ongoing-sharing",
   "metadata": {},
   "outputs": [],
   "source": [
    "np.random.seed(1)\n",
    "n_samples = 100\n",
    "X3 = np.random.uniform(0,1,n_samples)-0.5\n",
    "X1 = 2*X3+np.random.normal(0,1,n_samples)\n",
    "# old:\n",
    "# X2 = (0.5*X1)**2 + np.random.normal(0,1,n_samples)**2\n",
    "X2 = np.full((100), 3.0) # do\n",
    "X4 = X2 + 2 * np.sin(X3 + np.random.normal(0,1,n_samples))"
   ]
  },
  {
   "cell_type": "markdown",
   "id": "blessed-editor",
   "metadata": {},
   "source": [
    "# 6.4 Counterfactuals\n",
    "### Example 6.18 (Computing counterfactuals)\n",
    "$$\n",
    "\\begin{array}{l}\n",
    "X:=N_{X} \\\\\n",
    "Y:=X^{2}+N_{Y} \\\\\n",
    "Z:=2 \\cdot Y+X+N_{Z}\n",
    "\\end{array}\n",
    "$$\n",
    "\n"
   ]
  },
  {
   "cell_type": "code",
   "execution_count": 13,
   "id": "small-persian",
   "metadata": {},
   "outputs": [
    {
     "name": "stdout",
     "output_type": "stream",
     "text": [
      "-2 5 4\n"
     ]
    }
   ],
   "source": [
    "# SCM\n",
    "X = np.random.randint(-5,5+1)\n",
    "Y = X**2 + np.random.randint(-5,5+1)\n",
    "Z = 2*Y + X + np.random.randint(-5,5+1)\n",
    "print(X,Y,Z)"
   ]
  },
  {
   "cell_type": "code",
   "execution_count": 18,
   "id": "agreed-procurement",
   "metadata": {},
   "outputs": [
    {
     "name": "stdout",
     "output_type": "stream",
     "text": [
      "1 2 4\n"
     ]
    }
   ],
   "source": [
    "# Observation\n",
    "X = 1\n",
    "Y = X**2 + 1\n",
    "Z = 2*Y + X + -1\n",
    "print(X,Y,Z)"
   ]
  },
  {
   "cell_type": "markdown",
   "id": "assumed-italic",
   "metadata": {},
   "source": [
    "$$\n",
    "P_{Z}^{\\mathfrak{C} \\mid \\mathbf{X}=\\mathbf{x} ; d o(X:=2)}\n",
    "$$"
   ]
  },
  {
   "cell_type": "code",
   "execution_count": 17,
   "id": "married-following",
   "metadata": {},
   "outputs": [
    {
     "name": "stdout",
     "output_type": "stream",
     "text": [
      "2 5 11\n"
     ]
    }
   ],
   "source": [
    "# Z would have been 11 had X been set to 2\n",
    "X = 2\n",
    "Y = X**2 + 1\n",
    "Z = 2*Y + X + -1\n",
    "print(X,Y,Z)"
   ]
  },
  {
   "cell_type": "code",
   "execution_count": 19,
   "id": "unknown-average",
   "metadata": {},
   "outputs": [
    {
     "name": "stdout",
     "output_type": "stream",
     "text": [
      "1 5 10\n"
     ]
    }
   ],
   "source": [
    "# Z would have been 10 had Y been set to 5\n",
    "X = 1\n",
    "Y = 5\n",
    "Z = 2*Y + X + -1\n",
    "print(X,Y,Z)"
   ]
  },
  {
   "cell_type": "markdown",
   "id": "coupled-satisfaction",
   "metadata": {},
   "source": [
    "### Example 6.19\n",
    "\n",
    "$$\n",
    "\\begin{array}{l}\n",
    "X_{1}:=N_{1} \\\\\n",
    "X_{2}:=N_{2} \\\\\n",
    "X_{3}:=\\left(1_{N_{3}>0} \\cdot X_{1}+1_{N_{3}=0} \\cdot X_{2}\\right) \\cdot 1_{X_{1} \\neq X_{2}}+N_{3} \\cdot 1_{X_{1}=X_{2}}\n",
    "\\end{array}\n",
    "$$"
   ]
  },
  {
   "cell_type": "code",
   "execution_count": 30,
   "id": "affiliated-massage",
   "metadata": {},
   "outputs": [
    {
     "name": "stdout",
     "output_type": "stream",
     "text": [
      "1 1 1\n"
     ]
    }
   ],
   "source": [
    "# Step1: define an SCM\n",
    "#SCM -- CA\n",
    "X1 =  np.random.binomial(1,0.5) \n",
    "X2 =  np.random.binomial(1,0.5) \n",
    "N3 = np.random.randint(0,2+1)\n",
    "if X1!=X2:\n",
    "    if N3>0:\n",
    "        X3=X1\n",
    "    elif N3==0:\n",
    "        X3=X2\n",
    "elif X1==X2:\n",
    "    X3=N3\n",
    "print(X1,X2,X3)"
   ]
  },
  {
   "cell_type": "code",
   "execution_count": 31,
   "id": "advisory-method",
   "metadata": {},
   "outputs": [
    {
     "name": "stdout",
     "output_type": "stream",
     "text": [
      "0 0 2\n"
     ]
    }
   ],
   "source": [
    "#SCM -- CB\n",
    "X1 =  np.random.binomial(1,0.5) \n",
    "X2 =  np.random.binomial(1,0.5) \n",
    "N3 = np.random.randint(0,2+1)\n",
    "if X1!=X2:\n",
    "    if N3>0:\n",
    "        X3=X1\n",
    "    elif N3==0:\n",
    "        X3=X2\n",
    "elif X1==X2:\n",
    "    X3=2-N3\n",
    "print(X1,X2,X3)"
   ]
  },
  {
   "cell_type": "code",
   "execution_count": 33,
   "id": "capital-display",
   "metadata": {},
   "outputs": [
    {
     "name": "stdout",
     "output_type": "stream",
     "text": [
      "1 0 0\n"
     ]
    }
   ],
   "source": [
    "# Step 2: Observe data\n",
    "# Observation (X1,X2,X3=1,0,0)\n",
    "#SCM -- CA\n",
    "X1 =  1 \n",
    "X2 =  0 \n",
    "N3 = 0\n",
    "if X1!=X2:\n",
    "    if N3>0:\n",
    "        X3=X1\n",
    "    elif N3==0:\n",
    "        X3=X2 #from both SCM X3=0 it follows that N3 = 0\n",
    "elif X1==X2:\n",
    "    X3=N3\n",
    "print(X1,X2,X3)"
   ]
  },
  {
   "cell_type": "code",
   "execution_count": 34,
   "id": "reported-attitude",
   "metadata": {},
   "outputs": [
    {
     "name": "stdout",
     "output_type": "stream",
     "text": [
      "1 0 0\n"
     ]
    }
   ],
   "source": [
    "# Observation (X1,X2,X3=1,0,0)\n",
    "#SCM -- CB\n",
    "X1 =  1 \n",
    "X2 =  0 \n",
    "N3 = 0\n",
    "if X1!=X2:\n",
    "    if N3>0:\n",
    "        X3=X1\n",
    "    elif N3==0:\n",
    "        X3=X2 #from both SCM X3=0 it follows that N3 = 0\n",
    "elif X1==X2:\n",
    "    X3=2-N3\n",
    "print(X1,X2,X3)"
   ]
  },
  {
   "cell_type": "code",
   "execution_count": 38,
   "id": "optional-slovak",
   "metadata": {},
   "outputs": [
    {
     "name": "stdout",
     "output_type": "stream",
     "text": [
      "What would X3 have been of X1 had been 0?\n",
      "SCM (CA): (X1,X2,X3)\n",
      "0 0 0\n",
      "SCM (CB): (X1,X2,X3)\n",
      "0 0 2\n"
     ]
    }
   ],
   "source": [
    "# Step 3: Intervention\n",
    "# What would X3 have been of X1 had been 0?\n",
    "print('What would X3 have been of X1 had been 0?')\n",
    "#SCM -- CA\n",
    "X1 =  0 \n",
    "X2 =  0 \n",
    "N3 = 0\n",
    "if X1!=X2:\n",
    "    if N3>0:\n",
    "        X3=X1\n",
    "    elif N3==0:\n",
    "        X3=X2 #from both SCM X3=0 it follows that N3 = 0\n",
    "elif X1==X2:\n",
    "    X3=N3\n",
    "\n",
    "# Step 4: get the varaible we are interested in (X3)\n",
    "print('SCM (CA): (X1,X2,X3)')\n",
    "print(X1,X2,X3)\n",
    "\n",
    "# Step 3: Intervention\n",
    "# What would X3 have been of X1 had been 0?\n",
    "#SCM -- CB\n",
    "X1 =  0 \n",
    "X2 =  0 \n",
    "N3 = 0\n",
    "if X1!=X2:\n",
    "    if N3>0:\n",
    "        X3=X1\n",
    "    elif N3==0:\n",
    "        X3=X2 #from both SCM X3=0 it follows that N3 = 0\n",
    "elif X1==X2:\n",
    "    X3=2-N3\n",
    "    \n",
    "# Step 4: get the varaible we are interested in (X3)    \n",
    "print('SCM (CB): (X1,X2,X3)')\n",
    "print(X1,X2,X3)"
   ]
  },
  {
   "cell_type": "markdown",
   "id": "informative-lottery",
   "metadata": {},
   "source": [
    "### Example 6.30 (Berkson's paradox)\n",
    "$$\n",
    "\\begin{aligned}\n",
    "H &:=N_{H} \\\\\n",
    "F &:=N_{F} \\\\\n",
    "R &:=\\min (H, F) \\oplus N_{R}\n",
    "\\end{aligned}\n",
    "$$"
   ]
  },
  {
   "cell_type": "code",
   "execution_count": 59,
   "id": "removable-trout",
   "metadata": {},
   "outputs": [
    {
     "name": "stdout",
     "output_type": "stream",
     "text": [
      "1 0 0\n"
     ]
    }
   ],
   "source": [
    "H =  np.random.binomial(1,0.5) \n",
    "F =  np.random.binomial(1,0.5)\n",
    "R = (min(H,F)+np.random.binomial(1,0.1)) % 2 # addition modulo 2\n",
    "print(H,F,R)"
   ]
  },
  {
   "cell_type": "code",
   "execution_count": null,
   "id": "proud-update",
   "metadata": {},
   "outputs": [],
   "source": []
  },
  {
   "cell_type": "code",
   "execution_count": null,
   "id": "august-eugene",
   "metadata": {},
   "outputs": [],
   "source": []
  }
 ],
 "metadata": {
  "kernelspec": {
   "display_name": "Python 3",
   "language": "python",
   "name": "python3"
  },
  "language_info": {
   "codemirror_mode": {
    "name": "ipython",
    "version": 3
   },
   "file_extension": ".py",
   "mimetype": "text/x-python",
   "name": "python",
   "nbconvert_exporter": "python",
   "pygments_lexer": "ipython3",
   "version": "3.8.8"
  }
 },
 "nbformat": 4,
 "nbformat_minor": 5
}
